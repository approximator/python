{
 "cells": [
  {
   "cell_type": "markdown",
   "metadata": {},
   "source": [
    "# Context manager\n",
    "---\n",
    "\n",
    "```python\n",
    "with open('some_file') as data_file:\n",
    "    pass\n",
    "```\n",
    "\n",
    "## Under the hood:\n",
    "\n",
    "```python\n",
    "with ctx() as x:\n",
    "    pass\n",
    "```\n",
    "\n",
    "Looks like this:\n",
    "\n",
    "\n",
    "```python\n",
    "x = ctx().__enter__()\n",
    "try:\n",
    "    pass\n",
    "finally:\n",
    "    x.__exit__()\n",
    "```"
   ]
  },
  {
   "cell_type": "markdown",
   "metadata": {},
   "source": [
    "## Example\n",
    "---"
   ]
  },
  {
   "cell_type": "code",
   "execution_count": 1,
   "metadata": {},
   "outputs": [
    {
     "name": "stdout",
     "output_type": "stream",
     "text": [
      "Creating table \"points\"\n",
      "(1, 1)\n",
      "(2, 2)\n",
      "Removing table \"points\"\n"
     ]
    }
   ],
   "source": [
    "from sqlite3 import connect\n",
    "\n",
    "class temptable():\n",
    "    def __init__(self, cur):\n",
    "        self._cursor = cur\n",
    "\n",
    "    def __enter__(self):\n",
    "        print('Creating table \"points\"')\n",
    "        self._cursor.execute('create table points(x int, y int)')\n",
    "    \n",
    "    def __exit__(self, *args):\n",
    "        print('Removing table \"points\"')\n",
    "        self._cursor.execute('drop table points')\n",
    "\n",
    "\n",
    "with connect(\":memory:\") as conn:\n",
    "    cursor = conn.cursor()\n",
    "    with temptable(cursor):\n",
    "        cursor.execute('insert into points (x, y) values (1, 1)')\n",
    "        cursor.execute('insert into points (x, y) values (2, 2)')\n",
    "        \n",
    "        for row in cursor.execute('select * from points'):\n",
    "            print(row)"
   ]
  },
  {
   "cell_type": "markdown",
   "metadata": {},
   "source": [
    "## But how to make sure that the `__exit__` will not be called before `__enter__`\n",
    "---\n",
    "\n",
    "### Generators"
   ]
  },
  {
   "cell_type": "code",
   "execution_count": 2,
   "metadata": {},
   "outputs": [
    {
     "name": "stdout",
     "output_type": "stream",
     "text": [
      "Creating table \"points\"\n",
      "(1, 1)\n",
      "(2, 2)\n",
      "Removing table \"points\"\n"
     ]
    }
   ],
   "source": [
    "def temptable(cursor):\n",
    "    print('Creating table \"points\"')\n",
    "    cursor.execute('create table points(x int, y int)')\n",
    "    yield\n",
    "    print('Removing table \"points\"')\n",
    "    cursor.execute('drop table points')\n",
    "    \n",
    "class contextmanager():\n",
    "    def __init__(self, cur):\n",
    "        self._cursor = cur\n",
    "\n",
    "    def __enter__(self):\n",
    "        self.gen = temptable(self._cursor)\n",
    "        next(self.gen)\n",
    "    \n",
    "    def __exit__(self, *args):\n",
    "        next(self.gen, None)\n",
    "\n",
    "\n",
    "with connect(\":memory:\") as conn:\n",
    "    cursor = conn.cursor()\n",
    "    with contextmanager(cursor):\n",
    "        cursor.execute('insert into points (x, y) values (1, 1)')\n",
    "        cursor.execute('insert into points (x, y) values (2, 2)')\n",
    "        \n",
    "        for row in cursor.execute('select * from points'):\n",
    "            print(row)"
   ]
  },
  {
   "cell_type": "markdown",
   "metadata": {},
   "source": [
    "## Make a generic contextmanager\n",
    "---"
   ]
  },
  {
   "cell_type": "code",
   "execution_count": 3,
   "metadata": {},
   "outputs": [
    {
     "name": "stdout",
     "output_type": "stream",
     "text": [
      "Creating table \"points\"\n",
      "(1, 1)\n",
      "(2, 2)\n",
      "Removing table \"points\"\n"
     ]
    }
   ],
   "source": [
    "class contextmanager():\n",
    "    def __init__(self, generator):\n",
    "        self._generator = generator\n",
    "    \n",
    "    def __call__(self, *args, **kwargs):\n",
    "        self.args, self.kwargs = args, kwargs\n",
    "        return self\n",
    "\n",
    "    def __enter__(self):\n",
    "        self._generator = self._generator(*self.args, **self.kwargs)\n",
    "        next(self._generator)\n",
    "    \n",
    "    def __exit__(self, *args):\n",
    "        next(self._generator, None)\n",
    "\n",
    "def temptable(cursor):\n",
    "    print('Creating table \"points\"')\n",
    "    cursor.execute('create table points(x int, y int)')\n",
    "    yield\n",
    "    print('Removing table \"points\"')\n",
    "    cursor.execute('drop table points')\n",
    "    \n",
    "temptable = contextmanager(temptable)\n",
    "\n",
    "with connect(\":memory:\") as conn:\n",
    "    cursor = conn.cursor()\n",
    "    with temptable(cursor):\n",
    "        cursor.execute('insert into points (x, y) values (1, 1)')\n",
    "        cursor.execute('insert into points (x, y) values (2, 2)')\n",
    "        \n",
    "        for row in cursor.execute('select * from points'):\n",
    "            print(row)"
   ]
  },
  {
   "cell_type": "markdown",
   "metadata": {},
   "source": [
    "## Use a standard contextmanager\n",
    "---"
   ]
  },
  {
   "cell_type": "code",
   "execution_count": 4,
   "metadata": {},
   "outputs": [
    {
     "name": "stdout",
     "output_type": "stream",
     "text": [
      "Creating table \"points\"\n",
      "(1, 1)\n",
      "(2, 2)\n",
      "Removing table \"points\"\n"
     ]
    }
   ],
   "source": [
    "from contextlib import contextmanager\n",
    "\n",
    "@contextmanager\n",
    "def temptable(cursor):\n",
    "    print('Creating table \"points\"')\n",
    "    cursor.execute('create table points(x int, y int)')\n",
    "    yield\n",
    "    print('Removing table \"points\"')\n",
    "    cursor.execute('drop table points')\n",
    "\n",
    "with connect(\":memory:\") as conn:\n",
    "    cursor = conn.cursor()\n",
    "    with temptable(cursor):\n",
    "        cursor.execute('insert into points (x, y) values (1, 1)')\n",
    "        cursor.execute('insert into points (x, y) values (2, 2)')\n",
    "        \n",
    "        for row in cursor.execute('select * from points'):\n",
    "            print(row)"
   ]
  }
 ],
 "metadata": {
  "kernelspec": {
   "display_name": "Python 3",
   "language": "python",
   "name": "python3"
  },
  "language_info": {
   "codemirror_mode": {
    "name": "ipython",
    "version": 3
   },
   "file_extension": ".py",
   "mimetype": "text/x-python",
   "name": "python",
   "nbconvert_exporter": "python",
   "pygments_lexer": "ipython3",
   "version": "3.7.3"
  }
 },
 "nbformat": 4,
 "nbformat_minor": 2
}
