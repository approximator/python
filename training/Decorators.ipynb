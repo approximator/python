{
 "cells": [
  {
   "cell_type": "markdown",
   "metadata": {},
   "source": [
    "# Decorators\n",
    "---"
   ]
  },
  {
   "cell_type": "code",
   "execution_count": 1,
   "metadata": {},
   "outputs": [
    {
     "name": "stdout",
     "output_type": "stream",
     "text": [
      "<function add at 0x7f4e28052e18>\n",
      "add\n",
      "__main__\n"
     ]
    }
   ],
   "source": [
    "def add(x, y=10):\n",
    "    return x + y\n",
    "\n",
    "print(add)\n",
    "print(add.__name__)\n",
    "print(add.__module__)"
   ]
  },
  {
   "cell_type": "markdown",
   "metadata": {},
   "source": [
    "We can call our function with different parameters:"
   ]
  },
  {
   "cell_type": "code",
   "execution_count": 2,
   "metadata": {},
   "outputs": [
    {
     "name": "stdout",
     "output_type": "stream",
     "text": [
      "add(10) 20\n",
      "add(20, 30) 50\n",
      "add(\"a\", \"b\") ab\n"
     ]
    }
   ],
   "source": [
    "print('add(10)', add(10))\n",
    "print('add(20, 30)', add(20, 30))\n",
    "print('add(\"a\", \"b\")', add(\"a\", \"b\"))"
   ]
  },
  {
   "cell_type": "markdown",
   "metadata": {},
   "source": [
    "### What if we want to know an execution time of the function?\n",
    "\n",
    "A we can create a timer function:"
   ]
  },
  {
   "cell_type": "code",
   "execution_count": 3,
   "metadata": {},
   "outputs": [
    {
     "name": "stdout",
     "output_type": "stream",
     "text": [
      "elapsed: 1.6689300537109375e-06\n",
      "add(10) 20\n",
      "elapsed: 9.5367431640625e-07\n",
      "add(20, 30) 50\n",
      "elapsed: 9.5367431640625e-07\n",
      "add(\"a\", \"b\") ab\n"
     ]
    }
   ],
   "source": [
    "from time import time\n",
    "def timer(func, x, y=10):\n",
    "    before = time()\n",
    "    rv = func(x, y)\n",
    "    after = time()\n",
    "    print(f'elapsed: {after - before}')\n",
    "    return rv\n",
    "\n",
    "print('add(10)', timer(add, 10))\n",
    "print('add(20, 30)', timer(add, 20, 30))\n",
    "print('add(\"a\", \"b\")', timer(add, \"a\", \"b\"))"
   ]
  },
  {
   "cell_type": "markdown",
   "metadata": {},
   "source": [
    "But is's not very clean solution because we had to chanche all the user code.\n",
    "\n",
    "Another way is to create a wraper function:"
   ]
  },
  {
   "cell_type": "code",
   "execution_count": 4,
   "metadata": {},
   "outputs": [],
   "source": [
    "def timer(func):\n",
    "    def f(x, y=10):\n",
    "        before = time()\n",
    "        rv = func(x, y)\n",
    "        after = time()\n",
    "        print(f'elapsed: {after - before}')\n",
    "        return rv\n",
    "    return f\n",
    "\n",
    "def add(x, y=10):\n",
    "    return x + y\n",
    "\n",
    "add = timer(add)"
   ]
  },
  {
   "cell_type": "markdown",
   "metadata": {},
   "source": [
    "Now we don't have to change the user code:"
   ]
  },
  {
   "cell_type": "code",
   "execution_count": 5,
   "metadata": {},
   "outputs": [
    {
     "name": "stdout",
     "output_type": "stream",
     "text": [
      "elapsed: 7.152557373046875e-07\n",
      "add(10) 20\n",
      "elapsed: 7.152557373046875e-07\n",
      "add(20, 30) 50\n",
      "elapsed: 4.76837158203125e-07\n",
      "add(\"a\", \"b\") ab\n"
     ]
    }
   ],
   "source": [
    "print('add(10)', add(10))\n",
    "print('add(20, 30)', add(20, 30))\n",
    "print('add(\"a\", \"b\")', add(\"a\", \"b\"))"
   ]
  },
  {
   "cell_type": "markdown",
   "metadata": {},
   "source": [
    "That is a decorator:"
   ]
  },
  {
   "cell_type": "code",
   "execution_count": 6,
   "metadata": {},
   "outputs": [],
   "source": [
    "def timer(func):\n",
    "    def f(*args, **kwargs):\n",
    "        before = time()\n",
    "        rv = func(*args, **kwargs)\n",
    "        after = time()\n",
    "        print(f'elapsed: {after - before}')\n",
    "        return rv\n",
    "    return f\n",
    "\n",
    "@timer\n",
    "def add(x, y=10):\n",
    "    return x + y"
   ]
  },
  {
   "cell_type": "code",
   "execution_count": 7,
   "metadata": {},
   "outputs": [
    {
     "name": "stdout",
     "output_type": "stream",
     "text": [
      "elapsed: 4.76837158203125e-07\n",
      "add(10) 20\n",
      "elapsed: 4.76837158203125e-07\n",
      "add(20, 30) 50\n",
      "elapsed: 7.152557373046875e-07\n",
      "add(\"a\", \"b\") ab\n"
     ]
    }
   ],
   "source": [
    "print('add(10)', add(10))\n",
    "print('add(20, 30)', add(20, 30))\n",
    "print('add(\"a\", \"b\")', add(\"a\", \"b\"))"
   ]
  },
  {
   "cell_type": "markdown",
   "metadata": {},
   "source": [
    "## Another example of decorator"
   ]
  },
  {
   "cell_type": "code",
   "execution_count": 8,
   "metadata": {},
   "outputs": [],
   "source": [
    "def ntimes(f):\n",
    "    def wrapper(*args, **kwargs):\n",
    "        for _ in range(2):\n",
    "            print(f'Running {f.__name__}')\n",
    "            rv = f(*args, **kwargs)\n",
    "        return rv\n",
    "    return wrapper\n",
    "\n",
    "@ntimes\n",
    "def add(x, y=10):\n",
    "    return x + y"
   ]
  },
  {
   "cell_type": "code",
   "execution_count": 9,
   "metadata": {},
   "outputs": [
    {
     "name": "stdout",
     "output_type": "stream",
     "text": [
      "Running add\n",
      "Running add\n",
      "add(10) 20\n"
     ]
    }
   ],
   "source": [
    "print('add(10)', add(10))"
   ]
  },
  {
   "cell_type": "markdown",
   "metadata": {},
   "source": [
    "### How to pass parameter to decorator?"
   ]
  },
  {
   "cell_type": "code",
   "execution_count": 10,
   "metadata": {},
   "outputs": [],
   "source": [
    "def ntimes(n):\n",
    "    def inner(f):\n",
    "        def wrapper(*args, **kwargs):\n",
    "            for _ in range(n):\n",
    "                print(f'Running {f.__name__}')\n",
    "                rv = f(*args, **kwargs)\n",
    "            return rv\n",
    "        return wrapper\n",
    "    return inner\n",
    "\n",
    "@ntimes(3)\n",
    "def add(x, y=10):\n",
    "    return x + y"
   ]
  },
  {
   "cell_type": "code",
   "execution_count": 11,
   "metadata": {},
   "outputs": [
    {
     "name": "stdout",
     "output_type": "stream",
     "text": [
      "Running add\n",
      "Running add\n",
      "Running add\n",
      "add(10) 20\n"
     ]
    }
   ],
   "source": [
    "print('add(10)', add(10))"
   ]
  },
  {
   "cell_type": "markdown",
   "metadata": {},
   "source": [
    "## Closure object duality\n",
    "\n",
    "// todo:"
   ]
  },
  {
   "cell_type": "code",
   "execution_count": null,
   "metadata": {},
   "outputs": [],
   "source": []
  }
 ],
 "metadata": {
  "kernelspec": {
   "display_name": "Python 3",
   "language": "python",
   "name": "python3"
  },
  "language_info": {
   "codemirror_mode": {
    "name": "ipython",
    "version": 3
   },
   "file_extension": ".py",
   "mimetype": "text/x-python",
   "name": "python",
   "nbconvert_exporter": "python",
   "pygments_lexer": "ipython3",
   "version": "3.7.3"
  }
 },
 "nbformat": 4,
 "nbformat_minor": 2
}
